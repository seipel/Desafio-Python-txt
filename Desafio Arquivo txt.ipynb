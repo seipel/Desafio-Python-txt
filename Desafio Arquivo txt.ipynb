{
 "cells": [
  {
   "cell_type": "code",
   "execution_count": 24,
   "source": [
    "arquivo = open('Alunos.txt', 'r')\n",
    "\n",
    "linhas = arquivo.readlines()\n",
    "del linhas[:4]\n",
    "\n",
    "#criando indicadores\n",
    "qtde_org = 4\n",
    "qtde_anuncio = 0\n",
    "qtde_yt_org = 0\n",
    "qtde_igfb_org = 0\n",
    "qtde_site_org = 0\n",
    "\n",
    "#percorrer o arquivo\n",
    "for linha in linhas:\n",
    "    email,origem = linha.split(',')\n",
    "    if '_org' in origem:\n",
    "        qtde_org += 1\n",
    "        if 'hashtag_yt_org' in origem:\n",
    "            qtde_yt_org +=1\n",
    "        if 'hashtag_igfb_org' in origem or 'hashtag_ig_org' in origem:\n",
    "            qtde_igfb_org +=1 \n",
    "        if 'hashtag_site_org' in origem:\n",
    "            qtde_site_org +=1\n",
    "    else:\n",
    "        qtde_anuncio += 1\n",
    "\n",
    "#fechar arquivo\n",
    "arquivo.close()\n",
    "\n",
    "#criando um arquivo txt\n",
    "\n",
    "with open('Indicadores.txt', 'w') as arquivos_indicadores:\n",
    "    arquivos_indicadores.write('Quantidade  Anúncio: {}\\n'.format(qtde_anuncio))\n",
    "    arquivos_indicadores.write('Quatidade  Organico: {}\\n'.format(qtde_org))\n",
    "    arquivos_indicadores.write('A quantidade de pessoas que vieram pelo o YouTube foram {}\\nPelo Instagram ou Facebook foram {}\\nPor Site foram {}'.format(qtde_yt_org, qtde_igfb_org, qtde_site_org))\n",
    "\n",
    "\n",
    "    \n"
   ],
   "outputs": [],
   "metadata": {}
  }
 ],
 "metadata": {
  "kernelspec": {
   "name": "python3",
   "display_name": "Python 3.9.2 64-bit"
  },
  "language_info": {
   "codemirror_mode": {
    "name": "ipython",
    "version": 3
   },
   "file_extension": ".py",
   "mimetype": "text/x-python",
   "name": "python",
   "nbconvert_exporter": "python",
   "pygments_lexer": "ipython3",
   "version": "3.9.2"
  },
  "interpreter": {
   "hash": "916dbcbb3f70747c44a77c7bcd40155683ae19c65e1c03b4aa3499c5328201f1"
  }
 },
 "nbformat": 4,
 "nbformat_minor": 5
}